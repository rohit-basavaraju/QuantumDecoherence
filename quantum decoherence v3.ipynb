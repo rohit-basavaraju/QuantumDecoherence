{
 "cells": [
  {
   "cell_type": "markdown",
   "id": "10fc04e3",
   "metadata": {},
   "source": [
    "The purpose of this notebook is to model the decoherence of a qubit. We use a rotationally invariant linear product of spins in the Pauli matrix representation as the interaction Hamiltonian. The expectation is that time evolution under such a Hamiltonian will result in entanglement between the qubit and its environment, yielding a reduced mixed-state density matrix recognized by non-zero eigenvalues.\n",
    "\n",
    "N > 1: The qubit is entangled with a multi-qubit environment. "
   ]
  },
  {
   "cell_type": "code",
   "execution_count": 1,
   "id": "c2c8229c",
   "metadata": {},
   "outputs": [],
   "source": [
    "import os\n",
    "import numpy as np\n",
    "import matplotlib.pyplot as plt\n",
    "import scipy as sp\n",
    "import itertools"
   ]
  },
  {
   "cell_type": "code",
   "execution_count": 2,
   "id": "a559d914",
   "metadata": {},
   "outputs": [],
   "source": [
    "# helper functions\n",
    "def create_env_basis_list(N):\n",
    "    \"\"\"\n",
    "    Create 2^N different basis states from 0, 1\n",
    "\n",
    "    Arguments:\n",
    "    - N: The number of elements in the string to create.\n",
    "\n",
    "    Returns:\n",
    "    - perms: List of 2^N strings '0100...'\n",
    "    \"\"\"\n",
    "\n",
    "    perms = list(itertools.product('01', repeat=N))\n",
    "    \n",
    "    return perms\n",
    "\n",
    "def create_ham_order_list(N):\n",
    "    \"\"\"\n",
    "    Create different permutations from 0, 1 for Hamiltonian\n",
    "\n",
    "    Arguments:\n",
    "    - N: The number of elements in the string to create.\n",
    "\n",
    "    Returns:\n",
    "    - perms: List of strings '0100...'\n",
    "    \"\"\"\n",
    "\n",
    "    perms = list(itertools.permutations('0'*(N-1)+'1'))\n",
    "    \n",
    "    return perms"
   ]
  },
  {
   "cell_type": "code",
   "execution_count": 3,
   "id": "f94f3801",
   "metadata": {},
   "outputs": [],
   "source": [
    "# define the qubit (our system)\n",
    "c1 = np.sqrt(.5)\n",
    "c2 = np.sqrt(.5)\n",
    "qubit = np.array([c1, c2]) # c1|0> + c2|1>\n",
    "qubit = qubit.reshape(2,1) # reshape as a 2x1 column vector"
   ]
  },
  {
   "cell_type": "code",
   "execution_count": 4,
   "id": "9265472d",
   "metadata": {},
   "outputs": [],
   "source": [
    "# define the environment (let's try N>1 now)\n",
    "q_env_single = np.array([0, 1]) # |0>\n",
    "q_env_single = q_env_single.reshape(2,1) # reshape as a 2x1 column vector\n",
    "N = 5 # number of environmental qubits\n",
    "q_env = q_env_single # get the ball rolling \n",
    "for n in range(N-1):\n",
    "    q_env = np.kron(q_env_single, q_env)"
   ]
  },
  {
   "cell_type": "code",
   "execution_count": 5,
   "id": "1c856697",
   "metadata": {},
   "outputs": [],
   "source": [
    "# define the interaction Hamiltonian between qubit and evironment (linear product of spins)\n",
    "# pauli matrices\n",
    "i = complex(0,1)\n",
    "id_mat = np.array([[1,0],[0,1]])\n",
    "sigma_x = np.array([[0, 1], [1,0]])\n",
    "sigma_y = np.array([[0, -i], [i,0]])\n",
    "sigma_z = np.array([[1, 0], [0,-1]])\n",
    "\n",
    "ham = 0\n",
    "coupling = 1 # coupling strength between environment and qubit\n",
    "\n",
    "list_of_ham_orders = create_ham_order_list(N)\n",
    "for perm in list_of_ham_orders:\n",
    "    ham_x = sigma_x\n",
    "    ham_y = sigma_y\n",
    "    ham_z = sigma_z\n",
    "    for j in perm: # note that order of elements in kronecker product will be reverse of perm, but will not matter in sum\n",
    "        if j == '1':\n",
    "            ham_x = np.kron(sigma_x, ham_x)\n",
    "            ham_y = np.kron(sigma_y, ham_y)\n",
    "            ham_z = np.kron(sigma_z, ham_z)\n",
    "        elif j == '0':\n",
    "            ham_x = np.kron(id_mat, ham_x)\n",
    "            ham_y = np.kron(id_mat, ham_y)\n",
    "            ham_z = np.kron(id_mat, ham_z)\n",
    "    ham = ham + coupling*(ham_x + ham_y + ham_z)"
   ]
  },
  {
   "cell_type": "code",
   "execution_count": 6,
   "id": "f1d57908",
   "metadata": {},
   "outputs": [],
   "source": [
    "# define the global combined state of qubit and environment\n",
    "q_global = np.kron(q_env, qubit)"
   ]
  },
  {
   "cell_type": "code",
   "execution_count": 7,
   "id": "74813efa",
   "metadata": {
    "scrolled": true
   },
   "outputs": [],
   "source": [
    "# time evolve the global state d|psi> = -i*H|psi>dt\n",
    "dt = .01\n",
    "num_steps = 5000\n",
    "\n",
    "# record the eigenvalues of the reduced density matrix\n",
    "eigs_list = []\n",
    "eigvects_list = []\n",
    "rho_red_od_ll = []\n",
    "rho_red_od_ur = []\n",
    "\n",
    "for step in range(num_steps):\n",
    "    #q_update = np.zeros(np.shape(q_global), dtype=complex)\n",
    "\n",
    "    #for n in range(q_global.shape[0]):\n",
    "    #    q_update[n] = -i*dt*np.dot(ham[n], q_global[n])\n",
    "    ham = ham*[np.cos(-2*np.pi*step*dt/(10*dt))+np.cos(-4*np.pi*step*dt/(10*dt))] # trying a time-dependent coupling to instigate decoherence\n",
    "    q_update = -i*dt*np.dot(ham, q_global)\n",
    "    heun_term = np.linalg.inv(np.identity(ham.shape[0]) + .5*i*dt*ham) # trying 2nd order solver\n",
    "    q_global = np.matmul(heun_term, (q_global + q_update*.5))\n",
    "    q_global_norm = np.sqrt(np.dot(q_global.conj().T, q_global))\n",
    "    #print(q_global_norm)\n",
    "    q_global = q_global/(q_global_norm) # need to explicitly normalize since linearization is non-unitary at 2nd order\n",
    "    \n",
    "    # form the density matrix of the time-evolved global state\n",
    "    rho_global = np.outer(q_global, q_global.conj().T)\n",
    "    \n",
    "    # trace out the environmental state\n",
    "    # environmental basis states in global hilbert space\n",
    "    up = np.array([1,0]).reshape(2,1)\n",
    "    down = np.array([0,1]).reshape(2,1)\n",
    "    list_of_env_basis_states = create_env_basis_list(N)\n",
    "    rho_red = 0\n",
    "    for perm in list_of_env_basis_states:\n",
    "        env_basis_state = id_mat\n",
    "        for j in perm: # note that order of elements in kronecker product will be reverse of perm, but will not matter in trace\n",
    "            if j == '1':\n",
    "                env_basis_state = np.kron(up, env_basis_state)\n",
    "            elif j == '0':\n",
    "                env_basis_state = np.kron(down, env_basis_state)\n",
    "        rho_red = np.matmul(env_basis_state.conj().T, np.matmul(rho_global, env_basis_state)) + rho_red\n",
    "    \n",
    "    # calculate the eigenvalues of the reduced density matrix\n",
    "    eigs = np.linalg.eigvals(rho_red)\n",
    "    eigs_list.append(eigs)\n",
    "    \n",
    "    # calculate the eigenvectors of the reduced density matrix\n",
    "    w, eigvects = np.linalg.eig(rho_red)\n",
    "    eigvects_list.append(eigvects)\n",
    "    \n",
    "    # store the off-diagonal terms of the reduced density matrix\n",
    "    rho_red_od_ll.append(np.linalg.norm(rho_red[1,0]))\n",
    "    rho_red_od_ur.append(np.linalg.norm(rho_red[0,1]))"
   ]
  },
  {
   "cell_type": "code",
   "execution_count": 8,
   "id": "150156d4",
   "metadata": {},
   "outputs": [
    {
     "data": {
      "text/plain": [
       "Text(0.5, 1.0, 'Reduced Density Matrix Off-Diagonal Terms over Time (dt=0.01)')"
      ]
     },
     "execution_count": 8,
     "metadata": {},
     "output_type": "execute_result"
    },
    {
     "data": {
      "image/png": "[encoded data removed]",
      "text/plain": [
       "<Figure size 640x480 with 1 Axes>"
      ]
     },
     "metadata": {},
     "output_type": "display_data"
    },
    {
     "data": {
      "image/png": "[encoded data removed]",
      "text/plain": [
       "<Figure size 640x480 with 1 Axes>"
      ]
     },
     "metadata": {},
     "output_type": "display_data"
    }
   ],
   "source": [
    "# plot the eigenvalues as a function of time\n",
    "eigs_arr = np.array(eigs_list)\n",
    "eig1 = np.real(np.min(eigs_arr, 1))\n",
    "eig2 = np.real(np.max(eigs_arr, 1))\n",
    "t_arr = np.arange(0,dt*num_steps,dt)\n",
    "\n",
    "plt.figure()\n",
    "plt.plot(t_arr, eig1)\n",
    "plt.plot(t_arr, eig2)\n",
    "plt.grid()\n",
    "plt.xlabel('time')\n",
    "plt.ylabel('classical probability')\n",
    "plt.title('Reduced Density Matrix Eigenvalues over Time (dt='+str(dt)+')')\n",
    "\n",
    "plt.figure()\n",
    "plt.plot(t_arr, rho_red_od_ll)\n",
    "plt.plot(t_arr, rho_red_od_ur)\n",
    "plt.grid()\n",
    "plt.xlabel('time')\n",
    "plt.ylabel('norm of off-diagonal terms (10 and 01 elements)')\n",
    "plt.title('Reduced Density Matrix Off-Diagonal Terms over Time (dt='+str(dt)+')')"
   ]
  },
  {
   "cell_type": "markdown",
   "id": "87afb184",
   "metadata": {},
   "source": [
    "# Scratch Work"
   ]
  },
  {
   "cell_type": "code",
   "execution_count": 9,
   "id": "757f73b9",
   "metadata": {},
   "outputs": [
    {
     "data": {
      "text/plain": [
       "array([[ 0.70752875+0.j        ,  0.70457549+0.05455687j],\n",
       "       [-0.70457549+0.05455687j,  0.70752875+0.j        ]])"
      ]
     },
     "execution_count": 9,
     "metadata": {},
     "output_type": "execute_result"
    }
   ],
   "source": [
    "eigvects"
   ]
  },
  {
   "cell_type": "code",
   "execution_count": 10,
   "id": "eeee697a",
   "metadata": {},
   "outputs": [
    {
     "data": {
      "text/plain": [
       "array([[0.49940343+0.j        , 0.49821028+0.03857755j],\n",
       "       [0.49821028-0.03857755j, 0.50059657+0.j        ]])"
      ]
     },
     "execution_count": 10,
     "metadata": {},
     "output_type": "execute_result"
    }
   ],
   "source": [
    "rho_red"
   ]
  },
  {
   "cell_type": "code",
   "execution_count": 11,
   "id": "ae9641c3",
   "metadata": {},
   "outputs": [
    {
     "data": {
      "text/plain": [
       "array([[6.69771393e-02-1.49953607e-17j, 9.33022861e-01+1.49953607e-17j],\n",
       "       [5.25974289e-02-3.34377960e-18j, 9.47402571e-01+3.34377960e-18j],\n",
       "       [3.46498370e-02+1.16446909e-18j, 9.65350163e-01-1.16446909e-18j],\n",
       "       ...,\n",
       "       [2.98018964e-04+2.76991387e-18j, 9.99701981e-01-2.76991387e-18j],\n",
       "       [2.98018964e-04+2.76991387e-18j, 9.99701981e-01-2.76991387e-18j],\n",
       "       [2.98018964e-04+2.76991387e-18j, 9.99701981e-01-2.76991387e-18j]])"
      ]
     },
     "execution_count": 11,
     "metadata": {},
     "output_type": "execute_result"
    }
   ],
   "source": [
    "eigs_arr"
   ]
  },
  {
   "cell_type": "code",
   "execution_count": 12,
   "id": "bbfab21c",
   "metadata": {},
   "outputs": [
    {
     "data": {
      "text/plain": [
       "(64, 64)"
      ]
     },
     "execution_count": 12,
     "metadata": {},
     "output_type": "execute_result"
    }
   ],
   "source": [
    "ham.shape"
   ]
  },
  {
   "cell_type": "code",
   "execution_count": null,
   "id": "10ad4738",
   "metadata": {},
   "outputs": [],
   "source": []
  }
 ],
 "metadata": {
  "kernelspec": {
   "display_name": "Python 3 (ipykernel)",
   "language": "python",
   "name": "python3"
  },
  "language_info": {
   "codemirror_mode": {
    "name": "ipython",
    "version": 3
   },
   "file_extension": ".py",
   "mimetype": "text/x-python",
   "name": "python",
   "nbconvert_exporter": "python",
   "pygments_lexer": "ipython3",
   "version": "3.10.9"
  }
 },
 "nbformat": 4,
 "nbformat_minor": 5
}
