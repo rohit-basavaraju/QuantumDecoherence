{
 "cells": [
  {
   "cell_type": "markdown",
   "id": "10fc04e3",
   "metadata": {},
   "source": [
    "The purpose of this notebook is to model the decoherence of a qubit. We use a rotationally invariant linear product of spins in the Pauli matrix representation as the interaction Hamiltonian. The expectation is that time evolution under such a Hamiltonian will result in entanglement between the qubit and its environment, yielding a reduced mixed-state density matrix recognized by non-zero eigenvalues.\n",
    "\n",
    "N = 1: The qubit is entangled with a 1 qubit environment.\n",
    "\n",
    "WARNING: This notebook v1 is deprecated as it utilizes a first order solver (forward Euler) for the Schrodinger equation which produced numerical artifacts indicating it is not sufficiently accurate to capture the desired dynamics. Notebooks v2+ resolve this issue by using a more robust 2nd order numerical scheme (Heun's method)."
   ]
  },
  {
   "cell_type": "code",
   "execution_count": 1,
   "id": "c2c8229c",
   "metadata": {},
   "outputs": [],
   "source": [
    "import os\n",
    "import numpy as np\n",
    "import matplotlib.pyplot as plt\n",
    "import scipy as sp"
   ]
  },
  {
   "cell_type": "code",
   "execution_count": 2,
   "id": "f94f3801",
   "metadata": {},
   "outputs": [],
   "source": [
    "# define the qubit (our system)\n",
    "c1 = np.sqrt(1/2)\n",
    "c2 = np.sqrt(1/2)\n",
    "qubit = np.array([c1, c2]) # c1|0> + c2|1>\n",
    "qubit = qubit.reshape(2,1) # reshape as a 2x1 column vector"
   ]
  },
  {
   "cell_type": "code",
   "execution_count": 3,
   "id": "9265472d",
   "metadata": {},
   "outputs": [],
   "source": [
    "# define the environment (N=1 for starters)\n",
    "q_env = np.array([0, 1]) # |0>\n",
    "q_env = q_env.reshape(2,1) # reshape as a 2x1 column vector "
   ]
  },
  {
   "cell_type": "code",
   "execution_count": 4,
   "id": "1c856697",
   "metadata": {},
   "outputs": [],
   "source": [
    "# define the interaction Hamiltonian between qubit and evironment (linear product of spins)\n",
    "# pauli matrices\n",
    "i = complex(0,1)\n",
    "id_mat = np.array([[1,0],[0,1]])\n",
    "sigma_x = np.array([[0, 1], [1,0]])\n",
    "sigma_y = np.array([[0, -i], [i,0]])\n",
    "sigma_z = np.array([[1, 0], [0,-1]])\n",
    "\n",
    "coupling = 1 # coupling strength between environment and qubit\n",
    "\n",
    "ham = coupling*(np.kron(sigma_x, sigma_x) + np.kron(sigma_y, sigma_y) + np.kron(sigma_z, sigma_z))"
   ]
  },
  {
   "cell_type": "code",
   "execution_count": 5,
   "id": "f1d57908",
   "metadata": {},
   "outputs": [],
   "source": [
    "# define the global combined state of qubit and environment\n",
    "q_global = np.kron(q_env, qubit)"
   ]
  },
  {
   "cell_type": "code",
   "execution_count": 6,
   "id": "74813efa",
   "metadata": {},
   "outputs": [],
   "source": [
    "# time evolve the global state d|psi> = -i*H|psi>dt\n",
    "dt = .1\n",
    "num_steps = 1000\n",
    "\n",
    "# record the eigenvalues of the reduced density matrix\n",
    "eigs_list = []\n",
    "\n",
    "for step in range(num_steps):\n",
    "    #q_update = np.zeros(np.shape(q_global), dtype=complex)\n",
    "\n",
    "    #for n in range(q_global.shape[0]):\n",
    "    #    q_update[n] = -i*dt*np.dot(ham[n], q_global[n])\n",
    "    q_update = -i*dt*np.dot(ham, q_global)\n",
    "    q_global = q_global + q_update\n",
    "    q_global_norm = np.sqrt(np.dot(q_global.conj().T, q_global))\n",
    "    q_global = q_global/(q_global_norm) # need to explicitly normalize since linearization is non-unitary at 2nd order\n",
    "    \n",
    "    # form the density matrix of the time-evolved global state\n",
    "    rho_global = np.outer(q_global, q_global.conj().T)\n",
    "    \n",
    "    # trace out the environmental state\n",
    "    # environmental basis states in global hilbert space\n",
    "    up = np.array([1,0]).reshape(2,1)\n",
    "    down = np.array([0,1]).reshape(2,1)\n",
    "    up_global = np.kron(up, id_mat)\n",
    "    down_global = np.kron(down, id_mat)\n",
    "\n",
    "    rho_red = np.matmul(up_global.conj().T, np.matmul(rho_global, up_global)) +\\\n",
    "    np.matmul(down_global.conj().T, np.matmul(rho_global, down_global))\n",
    "    #rho_red = rho_global # let's see if the prob eigenvalue > 1 is still present with global density matrix...\n",
    "    \n",
    "    # calculate the eigenvalues of the reduced density matrix\n",
    "    eigs = np.linalg.eigvals(rho_red)\n",
    "    eigs_list.append(eigs)"
   ]
  },
  {
   "cell_type": "code",
   "execution_count": 7,
   "id": "150156d4",
   "metadata": {},
   "outputs": [
    {
     "data": {
      "text/plain": [
       "Text(0.5, 1.0, 'Reduced Density Matrix Eigenvalues over Time')"
      ]
     },
     "execution_count": 7,
     "metadata": {},
     "output_type": "execute_result"
    },
    {
     "data": {
      "image/png": "[encoded data removed]",
      "text/plain": [
       "<Figure size 640x480 with 1 Axes>"
      ]
     },
     "metadata": {},
     "output_type": "display_data"
    }
   ],
   "source": [
    "# plot the eigenvalues as a function of time\n",
    "eigs_arr = np.array(eigs_list)\n",
    "eig1 = np.real(np.min(eigs_arr, 1))\n",
    "eig2 = np.real(np.max(eigs_arr, 1))\n",
    "t_arr = np.arange(0,dt*num_steps,dt)\n",
    "\n",
    "plt.figure()\n",
    "plt.plot(t_arr, eig1)\n",
    "plt.plot(t_arr, eig2)\n",
    "plt.grid()\n",
    "plt.xlabel('time')\n",
    "plt.ylabel('classical probability')\n",
    "plt.title('Reduced Density Matrix Eigenvalues over Time')"
   ]
  },
  {
   "cell_type": "markdown",
   "id": "87afb184",
   "metadata": {},
   "source": [
    "# Scratch Work"
   ]
  },
  {
   "cell_type": "code",
   "execution_count": 8,
   "id": "b0b870ab",
   "metadata": {},
   "outputs": [
    {
     "data": {
      "text/plain": [
       "(0.9923980849410983, 0.00760191505890194)"
      ]
     },
     "execution_count": 8,
     "metadata": {},
     "output_type": "execute_result"
    }
   ],
   "source": [
    "np.max(np.real(eigs_arr)), np.min(np.real(eigs_arr))"
   ]
  },
  {
   "cell_type": "code",
   "execution_count": 9,
   "id": "4860d04c",
   "metadata": {},
   "outputs": [
    {
     "data": {
      "text/plain": [
       "(4.682457046604233e-17, -9.628611544313816e-17)"
      ]
     },
     "execution_count": 9,
     "metadata": {},
     "output_type": "execute_result"
    }
   ],
   "source": [
    "np.max(np.imag(eigs_arr)), np.min(np.imag(eigs_arr))"
   ]
  },
  {
   "cell_type": "code",
   "execution_count": 10,
   "id": "10b9ca81",
   "metadata": {},
   "outputs": [
    {
     "data": {
      "text/plain": [
       "array([[ True,  True,  True,  True],\n",
       "       [ True,  True,  True,  True],\n",
       "       [ True,  True,  True,  True],\n",
       "       [ True,  True,  True,  True]])"
      ]
     },
     "execution_count": 10,
     "metadata": {},
     "output_type": "execute_result"
    }
   ],
   "source": [
    "np.conj(ham).T == ham"
   ]
  },
  {
   "cell_type": "code",
   "execution_count": null,
   "id": "757f73b9",
   "metadata": {},
   "outputs": [],
   "source": []
  }
 ],
 "metadata": {
  "kernelspec": {
   "display_name": "Python 3 (ipykernel)",
   "language": "python",
   "name": "python3"
  },
  "language_info": {
   "codemirror_mode": {
    "name": "ipython",
    "version": 3
   },
   "file_extension": ".py",
   "mimetype": "text/x-python",
   "name": "python",
   "nbconvert_exporter": "python",
   "pygments_lexer": "ipython3",
   "version": "3.10.9"
  }
 },
 "nbformat": 4,
 "nbformat_minor": 5
}
